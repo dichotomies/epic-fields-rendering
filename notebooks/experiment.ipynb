{
 "cells": [
  {
   "cell_type": "code",
   "execution_count": null,
   "metadata": {},
   "outputs": [],
   "source": [
    "%env CUDA_DEVICE_ORDER=PCI_BUS_ID\n",
    "%env CUDA_VISIBLE_DEVICES=3\n",
    "%cd ../"
   ]
  },
  {
   "cell_type": "code",
   "execution_count": null,
   "metadata": {},
   "outputs": [],
   "source": [
    "import train\n",
    "from lib import utils\n",
    "from lib import evaluation\n",
    "from lib.dataset import EPICDiff\n",
    "import matplotlib.pyplot as plt\n",
    "from train import get_latest_ckpt"
   ]
  },
  {
   "cell_type": "code",
   "execution_count": null,
   "metadata": {},
   "outputs": [],
   "source": [
    "vid = 'P01_104'\n",
    "# vid = 'P01_09'\n",
    "# vid = 'P01_01'\n",
    "hparams = train.get_opts(vid=vid)"
   ]
  },
  {
   "cell_type": "code",
   "execution_count": null,
   "metadata": {},
   "outputs": [],
   "source": [
    "hparams.root = 'data/'"
   ]
  },
  {
   "cell_type": "code",
   "execution_count": null,
   "metadata": {},
   "outputs": [],
   "source": [
    "hparams = train.get_opts(vid=vid)"
   ]
  },
  {
   "cell_type": "code",
   "execution_count": null,
   "metadata": {},
   "outputs": [],
   "source": [
    "hparams.num_workers = 8\n",
    "hparams.dl_type = 'train'\n",
    "hparams.num_gpus = 1"
   ]
  },
  {
   "cell_type": "code",
   "execution_count": null,
   "metadata": {},
   "outputs": [],
   "source": [
    "import os"
   ]
  },
  {
   "cell_type": "code",
   "execution_count": null,
   "metadata": {},
   "outputs": [],
   "source": [
    "hparams.model_type = 'neuraldiff'\n",
    "hparams.ckpt_dst = 'ckpts_bck/dbg'\n",
    "hparams.logs_dst = 'logs/dbg'\n",
    "hparams.train.ignore_split = True"
   ]
  },
  {
   "cell_type": "code",
   "execution_count": null,
   "metadata": {},
   "outputs": [],
   "source": [
    "hparams.ckpt_path = get_latest_ckpt(f'ckpts_bck/{vid}-neuraldiff/')\n",
    "# hparams.ckpt_path = get_latest_ckpt(f'ckpts/{vid}-neuraldiff/')"
   ]
  },
  {
   "cell_type": "code",
   "execution_count": null,
   "metadata": {},
   "outputs": [],
   "source": [
    "if hparams.ckpt_path is None:\n",
    "    model = train.NeuralDiffSystem(hparams)\n",
    "else:\n",
    "    dataset = EPICDiff(vid=vid, cfg=hparams, split='val')\n",
    "    max_frame_id = max(dataset.img_ids)\n",
    "    model = train.init_model(hparams.ckpt_path, dataset=None, hparams=hparams, max_frame_id=max_frame_id)\n",
    "#     model = train.init_model(hparams.ckpt_path, dataset=dataset, hparams=hparams)"
   ]
  },
  {
   "cell_type": "code",
   "execution_count": null,
   "metadata": {},
   "outputs": [],
   "source": [
    "model.setup(0, reset_dataset=True)"
   ]
  },
  {
   "cell_type": "code",
   "execution_count": null,
   "metadata": {},
   "outputs": [],
   "source": [
    "model.hparams.exp_name = f'debug/{vid}-{model.hparams.model_type}'\n",
    "hparams.exp_name = model.hparams.exp_name"
   ]
  },
  {
   "cell_type": "code",
   "execution_count": null,
   "metadata": {},
   "outputs": [],
   "source": [
    "model.train()\n",
    "hparams.train_ratio = 200\n",
    "hparams.num_epochs = 11\n",
    "trainer = train.init_trainer(hparams, system=model)"
   ]
  },
  {
   "cell_type": "code",
   "execution_count": null,
   "metadata": {
    "scrolled": true
   },
   "outputs": [],
   "source": [
    "model.val_dataset.split = 'val'\n",
    "trainer.fit(model)"
   ]
  },
  {
   "cell_type": "code",
   "execution_count": null,
   "metadata": {},
   "outputs": [],
   "source": [
    "import time\n",
    "t1 = time.time()\n",
    "model.val_dataset.split = 'all'\n",
    "model.eval()\n",
    "model.cuda()\n",
    "sample_id = model.val_dataset.img_ids[70]\n",
    "x = evaluation.evaluate_sample(model.val_dataset, model=model, sample_id=sample_id)\n",
    "t2 = time.time()"
   ]
  },
  {
   "cell_type": "code",
   "execution_count": null,
   "metadata": {},
   "outputs": [],
   "source": [
    "plt.imshow(x['grid'])\n",
    "plt.axis('off')\n",
    "plt.show()"
   ]
  },
  {
   "cell_type": "code",
   "execution_count": null,
   "metadata": {},
   "outputs": [],
   "source": []
  }
 ],
 "metadata": {
  "kernelspec": {
   "display_name": "Python 3 (ipykernel)",
   "language": "python",
   "name": "python3"
  },
  "language_info": {
   "codemirror_mode": {
    "name": "ipython",
    "version": 3
   },
   "file_extension": ".py",
   "mimetype": "text/x-python",
   "name": "python",
   "nbconvert_exporter": "python",
   "pygments_lexer": "ipython3",
   "version": "3.8.16"
  }
 },
 "nbformat": 4,
 "nbformat_minor": 4
}
